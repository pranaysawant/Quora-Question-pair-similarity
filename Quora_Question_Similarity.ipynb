{
 "cells": [
  {
   "cell_type": "markdown",
   "metadata": {},
   "source": [
    "# Quara Questions similarity"
   ]
  },
  {
   "cell_type": "code",
   "execution_count": 1,
   "metadata": {
    "colab": {
     "base_uri": "https://localhost:8080/",
     "height": 309
    },
    "colab_type": "code",
    "id": "1H6pvUUQUQQs",
    "outputId": "8e65d672-dc07-48ff-90a7-04cc82a87521"
   },
   "outputs": [],
   "source": [
    "import matplotlib.pyplot as plt\n",
    "import re\n",
    "import time\n",
    "import warnings\n",
    "from sklearn.preprocessing import normalize\n",
    "from sklearn.feature_extraction.text import CountVectorizer\n",
    "from sklearn.feature_extraction.text import TfidfVectorizer\n",
    "warnings.filterwarnings(\"ignore\")\n",
    "import sys\n",
    "import numpy as np\n",
    "from tqdm import tqdm\n",
    "from joblib import dump, load\n",
    "\n",
    "# importing Cross validation libs\n",
    "from sklearn.model_selection import train_test_split\n",
    "from sklearn.model_selection import cross_val_score\n",
    "from sklearn import model_selection\n",
    "from collections import Counter, defaultdict\n",
    "\n",
    "import pandas as pd\n",
    "import sqlite3\n",
    "from sqlalchemy import create_engine # database connection\n",
    "import csv\n",
    "import os\n",
    "warnings.filterwarnings(\"ignore\")\n",
    "import datetime as dt\n",
    "from nltk.corpus import stopwords\n",
    "from sklearn.decomposition import TruncatedSVD\n",
    "from sklearn.preprocessing import normalize\n",
    "from sklearn.manifold import TSNE\n",
    "import seaborn as sns\n",
    "from sklearn.neighbors import KNeighborsClassifier\n",
    "from sklearn.metrics import confusion_matrix\n",
    "from sklearn.metrics.classification import accuracy_score, log_loss\n",
    "from collections import Counter\n",
    "from sklearn.multiclass import OneVsRestClassifier\n",
    "from sklearn.svm import SVC\n",
    "from collections import Counter, defaultdict\n",
    "from sklearn.calibration import CalibratedClassifierCV\n",
    "from sklearn.naive_bayes import MultinomialNB\n",
    "from sklearn.naive_bayes import GaussianNB\n",
    "from sklearn.model_selection import train_test_split\n",
    "from sklearn.model_selection import GridSearchCV\n",
    "import math\n",
    "from sklearn.metrics import normalized_mutual_info_score\n",
    "from sklearn.ensemble import RandomForestClassifier\n",
    "\n",
    "\n",
    "import scipy.sparse as sp\n",
    "\n",
    "from sklearn.linear_model import SGDClassifier\n",
    "from mlxtend.classifier import StackingClassifier\n",
    "\n",
    "from sklearn import model_selection\n",
    "from sklearn.linear_model import LogisticRegression\n",
    "from sklearn.metrics import precision_recall_curve, auc, roc_curve\n",
    "from sklearn.model_selection import RandomizedSearchCV\n",
    "\n",
    "from xgboost import XGBClassifier\n",
    "from sklearn.model_selection import StratifiedKFold\n",
    "\n",
    "# exctract word2vec vectors\n",
    "# https://github.com/explosion/spaCy/issues/1721\n",
    "# http://landinghub.visualstudio.com/visual-cpp-build-tools\n",
    "import spacy"
   ]
  },
  {
   "cell_type": "code",
   "execution_count": 4,
   "metadata": {
    "colab": {},
    "colab_type": "code",
    "id": "Wqpw9VKKVEti"
   },
   "outputs": [],
   "source": [
    "# avoid decoding problems\n",
    "df = pd.read_csv(\"train.csv\")\n",
    " \n",
    "# encode questions to unicode\n",
    "# https://stackoverflow.com/a/6812069\n",
    "# ----------------- python 2 ---------------------\n",
    "# df['question1'] = df['question1'].apply(lambda x: unicode(str(x),\"utf-8\"))\n",
    "# df['question2'] = df['question2'].apply(lambda x: unicode(str(x),\"utf-8\"))\n",
    "# ----------------- python 3 ---------------------\n",
    "df['question1'] = df['question1'].apply(lambda x: str(x))\n",
    "df['question2'] = df['question2'].apply(lambda x: str(x))"
   ]
  },
  {
   "cell_type": "code",
   "execution_count": 5,
   "metadata": {
    "colab": {
     "base_uri": "https://localhost:8080/",
     "height": 204
    },
    "colab_type": "code",
    "id": "b81S_OgZVIGW",
    "outputId": "491da1d0-0470-452e-aeb4-be400331064a"
   },
   "outputs": [
    {
     "data": {
      "text/html": [
       "<div>\n",
       "<style scoped>\n",
       "    .dataframe tbody tr th:only-of-type {\n",
       "        vertical-align: middle;\n",
       "    }\n",
       "\n",
       "    .dataframe tbody tr th {\n",
       "        vertical-align: top;\n",
       "    }\n",
       "\n",
       "    .dataframe thead th {\n",
       "        text-align: right;\n",
       "    }\n",
       "</style>\n",
       "<table border=\"1\" class=\"dataframe\">\n",
       "  <thead>\n",
       "    <tr style=\"text-align: right;\">\n",
       "      <th></th>\n",
       "      <th>id</th>\n",
       "      <th>qid1</th>\n",
       "      <th>qid2</th>\n",
       "      <th>question1</th>\n",
       "      <th>question2</th>\n",
       "      <th>is_duplicate</th>\n",
       "    </tr>\n",
       "  </thead>\n",
       "  <tbody>\n",
       "    <tr>\n",
       "      <th>0</th>\n",
       "      <td>0</td>\n",
       "      <td>1</td>\n",
       "      <td>2</td>\n",
       "      <td>What is the step by step guide to invest in sh...</td>\n",
       "      <td>What is the step by step guide to invest in sh...</td>\n",
       "      <td>0</td>\n",
       "    </tr>\n",
       "    <tr>\n",
       "      <th>1</th>\n",
       "      <td>1</td>\n",
       "      <td>3</td>\n",
       "      <td>4</td>\n",
       "      <td>What is the story of Kohinoor (Koh-i-Noor) Dia...</td>\n",
       "      <td>What would happen if the Indian government sto...</td>\n",
       "      <td>0</td>\n",
       "    </tr>\n",
       "    <tr>\n",
       "      <th>2</th>\n",
       "      <td>2</td>\n",
       "      <td>5</td>\n",
       "      <td>6</td>\n",
       "      <td>How can I increase the speed of my internet co...</td>\n",
       "      <td>How can Internet speed be increased by hacking...</td>\n",
       "      <td>0</td>\n",
       "    </tr>\n",
       "    <tr>\n",
       "      <th>3</th>\n",
       "      <td>3</td>\n",
       "      <td>7</td>\n",
       "      <td>8</td>\n",
       "      <td>Why am I mentally very lonely? How can I solve...</td>\n",
       "      <td>Find the remainder when [math]23^{24}[/math] i...</td>\n",
       "      <td>0</td>\n",
       "    </tr>\n",
       "    <tr>\n",
       "      <th>4</th>\n",
       "      <td>4</td>\n",
       "      <td>9</td>\n",
       "      <td>10</td>\n",
       "      <td>Which one dissolve in water quikly sugar, salt...</td>\n",
       "      <td>Which fish would survive in salt water?</td>\n",
       "      <td>0</td>\n",
       "    </tr>\n",
       "  </tbody>\n",
       "</table>\n",
       "</div>"
      ],
      "text/plain": [
       "   id  qid1  qid2                                          question1  \\\n",
       "0   0     1     2  What is the step by step guide to invest in sh...   \n",
       "1   1     3     4  What is the story of Kohinoor (Koh-i-Noor) Dia...   \n",
       "2   2     5     6  How can I increase the speed of my internet co...   \n",
       "3   3     7     8  Why am I mentally very lonely? How can I solve...   \n",
       "4   4     9    10  Which one dissolve in water quikly sugar, salt...   \n",
       "\n",
       "                                           question2  is_duplicate  \n",
       "0  What is the step by step guide to invest in sh...             0  \n",
       "1  What would happen if the Indian government sto...             0  \n",
       "2  How can Internet speed be increased by hacking...             0  \n",
       "3  Find the remainder when [math]23^{24}[/math] i...             0  \n",
       "4            Which fish would survive in salt water?             0  "
      ]
     },
     "execution_count": 5,
     "metadata": {},
     "output_type": "execute_result"
    }
   ],
   "source": [
    "df.head()"
   ]
  },
  {
   "cell_type": "markdown",
   "metadata": {
    "colab_type": "text",
    "id": "OASrme1iLzBU"
   },
   "source": [
    "#### Common functions"
   ]
  },
  {
   "cell_type": "code",
   "execution_count": 6,
   "metadata": {
    "colab": {},
    "colab_type": "code",
    "id": "jksb6LydcrTE"
   },
   "outputs": [],
   "source": [
    "# This function plots the confusion matrices given y_i, y_i_hat.\n",
    "def plot_confusion_matrix(test_y, predict_y):\n",
    "    C = confusion_matrix(test_y, predict_y)\n",
    "    # C = 9,9 matrix, each cell (i,j) represents number of points of class i are predicted class j\n",
    "    \n",
    "    A =(((C.T)/(C.sum(axis=1))).T)\n",
    "    B =(C/C.sum(axis=0))\n",
    "    \n",
    "    plt.figure(figsize=(20,4))\n",
    "    \n",
    "    labels = [1,2]\n",
    "    # representing A in heatmap format\n",
    "    cmap=sns.light_palette(\"blue\")\n",
    "    plt.subplot(1, 3, 1)\n",
    "    sns.heatmap(C, annot=True, cmap=cmap, fmt=\".3f\", xticklabels=labels, yticklabels=labels)\n",
    "    plt.xlabel('Predicted Class')\n",
    "    plt.ylabel('Original Class')\n",
    "    plt.title(\"Confusion matrix\")\n",
    "    \n",
    "    plt.subplot(1, 3, 2)\n",
    "    sns.heatmap(B, annot=True, cmap=cmap, fmt=\".3f\", xticklabels=labels, yticklabels=labels)\n",
    "    plt.xlabel('Predicted Class')\n",
    "    plt.ylabel('Original Class')\n",
    "    plt.title(\"Precision matrix\")\n",
    "    \n",
    "    plt.subplot(1, 3, 3)\n",
    "    # representing B in heatmap format\n",
    "    sns.heatmap(A, annot=True, cmap=cmap, fmt=\".3f\", xticklabels=labels, yticklabels=labels)\n",
    "    plt.xlabel('Predicted Class')\n",
    "    plt.ylabel('Original Class')\n",
    "    plt.title(\"Recall matrix\")\n",
    "    \n",
    "    plt.show()\n",
    "    \n",
    "    \n",
    "    \n",
    "depth_ = [2,3,5,7,9]\n",
    "depth_ = np.asarray(depth_)\n",
    "\n",
    "estimators = [100,500,1000,1200,1300]\n",
    "estimators_list = np.asarray(estimators)\n",
    "\n",
    "colsample_bytree = [0.1, 0.3, 0.5, 0.7]\n",
    "colsample_bytree = np.asarray(colsample_bytree)\n",
    "\n",
    "subsample = [0.1,0.3,0.5,0.7]\n",
    "colsample_bytree = np.asarray(subsample)\n",
    "\n",
    "\n",
    "def finding_best_hyperparam(X_tr,y_tr):\n",
    "    # instantiate a GBDT model\n",
    "    xgb = XGBClassifier(class_weight='balanced', random_state=1)\n",
    "    \n",
    "    cross_val = StratifiedKFold(n_splits=5, shuffle=True)\n",
    "\n",
    "    param_grid=dict(n_estimators=estimators_list,max_depth=depth_,colsample_bytree = colsample_bytree,\n",
    "                      subsample = subsample) \n",
    "    \n",
    "    # instantiate the training random search model\n",
    "    train_grid = RandomizedSearchCV(xgb, param_grid, cv=cross_val, scoring='neg_log_loss',n_jobs =-1,verbose=8 )\n",
    "    \n",
    "    # fit the training data to train model\n",
    "    train_grid.fit(X_tr, y_tr)\n",
    "\n",
    "    return train_grid"
   ]
  },
  {
   "cell_type": "markdown",
   "metadata": {
    "colab_type": "text",
    "id": "qevLAm_WyoKb"
   },
   "source": [
    "## 1. TFIDF"
   ]
  },
  {
   "cell_type": "code",
   "execution_count": 7,
   "metadata": {
    "colab": {},
    "colab_type": "code",
    "id": "flFdkmTsVKdl"
   },
   "outputs": [],
   "source": [
    "#prepro_features_train.csv (Simple Preprocessing Feartures)\n",
    "#nlp_features_train.csv (NLP Features)\n",
    "if os.path.isfile('nlp_features_train.csv'):\n",
    "    dfnlp = pd.read_csv(\"nlp_features_train.csv\",encoding='latin-1')\n",
    "else:\n",
    "    print(\"download nlp_features_train.csv from drive or run previous notebook\")\n",
    "\n",
    "if os.path.isfile('df_fe_without_preprocessing_train.csv'):\n",
    "    dfppro = pd.read_csv(\"df_fe_without_preprocessing_train.csv\",encoding='latin-1')\n",
    "else:\n",
    "    print(\"download df_fe_without_preprocessing_train.csv from drive or run previous notebook\")"
   ]
  },
  {
   "cell_type": "code",
   "execution_count": 8,
   "metadata": {
    "colab": {},
    "colab_type": "code",
    "id": "rzqxLhRNghiQ"
   },
   "outputs": [],
   "source": [
    "# drop 'qid1' and 'qid2'\n",
    "dfppro = dfppro.drop(['qid1','qid2'],axis=1)\n",
    "\n",
    "# drop 'qid1','qid2', 'question1', 'question2','is_duplicate'\n",
    "dfnlp = dfnlp.drop(['qid1','qid2','question1','question2','is_duplicate'],axis=1)\n",
    "\n",
    "# join operation\n",
    "df_final_features  = dfppro.merge(dfnlp, on='id',how='left')"
   ]
  },
  {
   "cell_type": "code",
   "execution_count": 12,
   "metadata": {
    "colab": {
     "base_uri": "https://localhost:8080/",
     "height": 153
    },
    "colab_type": "code",
    "id": "48IY28zuhQmX",
    "outputId": "45da790e-b995-49a4-f5ab-19cd4bebf181"
   },
   "outputs": [
    {
     "data": {
      "text/plain": [
       "Index(['id', 'question1', 'question2', 'is_duplicate', 'freq_qid1',\n",
       "       'freq_qid2', 'q1len', 'q2len', 'q1_n_words', 'q2_n_words',\n",
       "       'word_Common', 'word_Total', 'word_share', 'freq_q1+q2', 'freq_q1-q2',\n",
       "       'cwc_min', 'cwc_max', 'csc_min', 'csc_max', 'ctc_min', 'ctc_max',\n",
       "       'last_word_eq', 'first_word_eq', 'abs_len_diff', 'mean_len',\n",
       "       'token_set_ratio', 'token_sort_ratio', 'fuzz_ratio',\n",
       "       'fuzz_partial_ratio', 'longest_substr_ratio'],\n",
       "      dtype='object')"
      ]
     },
     "execution_count": 12,
     "metadata": {},
     "output_type": "execute_result"
    }
   ],
   "source": [
    "df_final_features.columns"
   ]
  },
  {
   "cell_type": "code",
   "execution_count": 13,
   "metadata": {
    "colab": {},
    "colab_type": "code",
    "id": "lpjRdbcSipTo"
   },
   "outputs": [],
   "source": [
    "# not null check\n",
    "df_final_features = df_final_features[df_final_features['question1'].notnull()]\n",
    "df_final_features = df_final_features[df_final_features['question2'].notnull()]"
   ]
  },
  {
   "cell_type": "code",
   "execution_count": 14,
   "metadata": {
    "colab": {},
    "colab_type": "code",
    "id": "COqYmD-vQuD3"
   },
   "outputs": [],
   "source": [
    "y = df_final_features['is_duplicate'][:100000]"
   ]
  },
  {
   "cell_type": "markdown",
   "metadata": {
    "colab_type": "text",
    "id": "jl8WJIahw05_"
   },
   "source": [
    "## 3. Split data\n"
   ]
  },
  {
   "cell_type": "code",
   "execution_count": 15,
   "metadata": {
    "colab": {
     "base_uri": "https://localhost:8080/",
     "height": 34
    },
    "colab_type": "code",
    "id": "LlsW8iiSw6_B",
    "outputId": "3d6dcea1-6ca3-4ae7-ccb3-17c9708b3989"
   },
   "outputs": [
    {
     "data": {
      "text/plain": [
       "((64000, 30), (20000, 30), (16000, 30), (64000,), (20000,), (16000,))"
      ]
     },
     "execution_count": 15,
     "metadata": {},
     "output_type": "execute_result"
    }
   ],
   "source": [
    "X = df_final_features[:100000]\n",
    "\n",
    "X_train,X_test, y_train, y_test = model_selection.train_test_split(X, y, test_size=0.2,random_state=0)\n",
    "X_train, X_cv, y_train, y_cv = model_selection.train_test_split(X_train, y_train, test_size=0.20) # this is random splitting\n",
    "\n",
    "\n",
    "X_train.shape, X_test.shape,X_cv.shape, y_train.shape, y_test.shape, y_cv.shape"
   ]
  },
  {
   "cell_type": "code",
   "execution_count": 16,
   "metadata": {
    "colab": {},
    "colab_type": "code",
    "id": "Gah7XGkzQARg"
   },
   "outputs": [],
   "source": [
    "tfidf =  TfidfVectorizer(ngram_range=(1,3), min_df=10) #in scikit-learn\n",
    "\n",
    "X_tr_tfidf_vect1 = tfidf.fit_transform(X_train['question1'])\n",
    "X_cv_tfidf_vect1 = tfidf.transform(X_cv['question1'])\n",
    "X_test_tfidf_vect1 = tfidf.transform(X_test['question1'])\n",
    "\n",
    "X_tr_tfidf_vect2 = tfidf.fit_transform(X_train['question2'])\n",
    "X_cv_tfidf_vect2 = tfidf.transform(X_cv['question2'])\n",
    "X_test_tfidf_vect2 = tfidf.transform(X_test['question2'])"
   ]
  },
  {
   "cell_type": "code",
   "execution_count": 17,
   "metadata": {
    "colab": {
     "base_uri": "https://localhost:8080/",
     "height": 153
    },
    "colab_type": "code",
    "id": "IbjdwX5HKvBK",
    "outputId": "3b16c4ae-781d-4643-e1eb-18d16f6535cd"
   },
   "outputs": [
    {
     "data": {
      "text/plain": [
       "Index(['id', 'question1', 'question2', 'is_duplicate', 'freq_qid1',\n",
       "       'freq_qid2', 'q1len', 'q2len', 'q1_n_words', 'q2_n_words',\n",
       "       'word_Common', 'word_Total', 'word_share', 'freq_q1+q2', 'freq_q1-q2',\n",
       "       'cwc_min', 'cwc_max', 'csc_min', 'csc_max', 'ctc_min', 'ctc_max',\n",
       "       'last_word_eq', 'first_word_eq', 'abs_len_diff', 'mean_len',\n",
       "       'token_set_ratio', 'token_sort_ratio', 'fuzz_ratio',\n",
       "       'fuzz_partial_ratio', 'longest_substr_ratio'],\n",
       "      dtype='object')"
      ]
     },
     "execution_count": 17,
     "metadata": {},
     "output_type": "execute_result"
    }
   ],
   "source": [
    "X_train.columns"
   ]
  },
  {
   "cell_type": "code",
   "execution_count": 18,
   "metadata": {
    "colab": {},
    "colab_type": "code",
    "id": "BIEnG3ramLq-"
   },
   "outputs": [],
   "source": [
    "# as we need only features data, we can eliminate unneccasary\n",
    "X_train.drop(['id','is_duplicate','question1','question2'], axis=1, inplace=True)\n",
    "X_cv.drop(['id','is_duplicate','question1','question2'], axis=1, inplace=True)\n",
    "X_test.drop(['id','is_duplicate','question1','question2'], axis=1, inplace=True)"
   ]
  },
  {
   "cell_type": "code",
   "execution_count": 19,
   "metadata": {
    "colab": {
     "base_uri": "https://localhost:8080/",
     "height": 34
    },
    "colab_type": "code",
    "id": "8NejR5bZJy77",
    "outputId": "209384b5-3c96-4cbb-80a0-40593a2d5fe7"
   },
   "outputs": [
    {
     "data": {
      "text/plain": [
       "((64000, 29191), (20000, 29191), (16000, 29191), (64000,), (20000,), (16000,))"
      ]
     },
     "execution_count": 19,
     "metadata": {},
     "output_type": "execute_result"
    }
   ],
   "source": [
    "# https://stackoverflow.com/questions/34710281/use-featureunion-in-scikit-learn-to-combine-two-pandas-columns-for-tfidf\n",
    "# dtype=np.float64 will convert string to numeric features\n",
    "\n",
    "# stacking tfidf_que1 with tfidf_que2\n",
    "X_tr_stack = sp.hstack([X_tr_tfidf_vect1, X_tr_tfidf_vect2], format='csr', dtype='float64')\n",
    "\n",
    "# stacking all features\n",
    "X_train = sp.hstack((X_train, X_tr_stack),format=\"csr\",dtype='float64')\n",
    "\n",
    "X_cv_stack = sp.hstack([X_cv_tfidf_vect1, X_cv_tfidf_vect2], format='csr', dtype='float64')\n",
    "X_cv  = sp.hstack((X_cv, X_cv_stack),format=\"csr\",dtype='float64')\n",
    "\n",
    "X_test_stack = sp.hstack([X_test_tfidf_vect1, X_test_tfidf_vect2], format='csr', dtype='float64')\n",
    "X_test  = sp.hstack((X_test, X_test_stack),format=\"csr\",dtype='float64')\n",
    "\n",
    "X_train.shape, X_test.shape,X_cv.shape, y_train.shape, y_test.shape, y_cv.shape"
   ]
  },
  {
   "cell_type": "code",
   "execution_count": 20,
   "metadata": {
    "colab": {
     "base_uri": "https://localhost:8080/",
     "height": 85
    },
    "colab_type": "code",
    "id": "Lx51BN7AOTCc",
    "outputId": "c53d50ed-cc06-478a-96fa-c594518b13d7"
   },
   "outputs": [
    {
     "name": "stdout",
     "output_type": "stream",
     "text": [
      "---------- Distribution of output variable in train data ----------\n",
      "Class 0:  0.6275 Class 1:  0.3725\n",
      "---------- Distribution of output variable in train data ----------\n",
      "Class 0:  0.3787 Class 1:  0.3787\n"
     ]
    }
   ],
   "source": [
    "print(\"-\"*10, \"Distribution of output variable in train data\", \"-\"*10)\n",
    "train_distr = Counter(y_train)\n",
    "train_len = len(y_train)\n",
    "print(\"Class 0: \",int(train_distr[0])/train_len,\"Class 1: \", int(train_distr[1])/train_len)\n",
    "print(\"-\"*10, \"Distribution of output variable in train data\", \"-\"*10)\n",
    "test_distr = Counter(y_test)\n",
    "test_len = len(y_test)\n",
    "print(\"Class 0: \",int(test_distr[1])/test_len, \"Class 1: \",int(test_distr[1])/test_len)"
   ]
  },
  {
   "cell_type": "markdown",
   "metadata": {
    "colab_type": "text",
    "id": "0Zy3IxALnsXn"
   },
   "source": [
    "## 2. Building a random model (Finding worst-case log-loss) "
   ]
  },
  {
   "cell_type": "code",
   "execution_count": 21,
   "metadata": {
    "colab": {
     "base_uri": "https://localhost:8080/",
     "height": 312
    },
    "colab_type": "code",
    "id": "hXLGOxgXnnwY",
    "outputId": "89079b39-b9cb-490d-dcf7-eb2f0517db87"
   },
   "outputs": [
    {
     "name": "stdout",
     "output_type": "stream",
     "text": [
      "Log loss on Test Data using Random Model 0.8849129142714491\n"
     ]
    },
    {
     "data": {
      "image/png": "[encoded data removed]",
      "text/plain": [
       "<Figure size 1440x288 with 6 Axes>"
      ]
     },
     "metadata": {
      "needs_background": "light"
     },
     "output_type": "display_data"
    }
   ],
   "source": [
    "predicted_y = np.zeros((test_len,2))\n",
    "for i in range(test_len):\n",
    "    rand_probs = np.random.rand(1,2)\n",
    "    predicted_y[i] = ((rand_probs/sum(sum(rand_probs)))[0])\n",
    "print(\"Log loss on Test Data using Random Model\",log_loss(y_test, predicted_y, eps=1e-15))\n",
    "\n",
    "predicted_y =np.argmax(predicted_y, axis=1)\n",
    "plot_confusion_matrix(y_test, predicted_y)"
   ]
  },
  {
   "cell_type": "markdown",
   "metadata": {
    "colab_type": "text",
    "id": "OtQzHgGd0rVi"
   },
   "source": [
    "## 4. Machine Learning Models"
   ]
  },
  {
   "cell_type": "markdown",
   "metadata": {
    "colab_type": "text",
    "id": "ZTwtlA3dpMPs"
   },
   "source": [
    "## 4.1 Logistic Regression with hyperparameter tuning"
   ]
  },
  {
   "cell_type": "code",
   "execution_count": 30,
   "metadata": {
    "colab": {
     "base_uri": "https://localhost:8080/",
     "height": 743
    },
    "colab_type": "code",
    "id": "pYAsIYXBpV_-",
    "outputId": "219ec792-bff1-4c52-d9c2-8bc45c013eea"
   },
   "outputs": [
    {
     "name": "stdout",
     "output_type": "stream",
     "text": [
      "For values of alpha =  1e-05 The log loss is: 0.44876895419894147\n",
      "For values of alpha =  0.0001 The log loss is: 0.44198186097701403\n",
      "For values of alpha =  0.001 The log loss is: 0.4471844116688919\n",
      "For values of alpha =  0.01 The log loss is: 0.4448723999609054\n",
      "For values of alpha =  0.1 The log loss is: 0.451698897035198\n",
      "For values of alpha =  1 The log loss is: 0.48990628376450607\n",
      "For values of alpha =  10 The log loss is: 0.549087506232412\n"
     ]
    },
    {
     "data": {
      "image/png": "[encoded data removed]",
      "text/plain": [
       "<Figure size 432x288 with 1 Axes>"
      ]
     },
     "metadata": {
      "needs_background": "light"
     },
     "output_type": "display_data"
    },
    {
     "name": "stdout",
     "output_type": "stream",
     "text": [
      "For values of best alpha =  0.0001 The train log loss is: 0.4492720654380141\n",
      "For values of best alpha =  0.0001 The test log loss is: 0.44198186097701403\n",
      "Total number of data points : 20000\n"
     ]
    },
    {
     "data": {
      "image/png": "[encoded data removed]",
      "text/plain": [
       "<Figure size 1440x288 with 6 Axes>"
      ]
     },
     "metadata": {
      "needs_background": "light"
     },
     "output_type": "display_data"
    }
   ],
   "source": [
    "alpha = [10 ** x for x in range(-5, 2)] # hyperparam for SGD classifier.\n",
    "\n",
    "\n",
    "log_error_array=[]\n",
    "for i in alpha:\n",
    "    clf = SGDClassifier(alpha=i, penalty='l2', loss='log', random_state=42)\n",
    "    clf.fit(X_train, y_train)\n",
    "    sig_clf = CalibratedClassifierCV(clf, method=\"sigmoid\")\n",
    "    sig_clf.fit(X_train, y_train)\n",
    "    predict_y = sig_clf.predict_proba(X_test)\n",
    "    log_error_array.append(log_loss(y_test, predict_y, labels=clf.classes_, eps=1e-15))\n",
    "    print('For values of alpha = ', i, \"The log loss is:\",log_loss(y_test, predict_y, labels=clf.classes_, eps=1e-15))\n",
    "\n",
    "fig, ax = plt.subplots()\n",
    "ax.plot(alpha, log_error_array,c='g')\n",
    "for i, txt in enumerate(np.round(log_error_array,3)):\n",
    "    ax.annotate((alpha[i],np.round(txt,3)), (alpha[i],log_error_array[i]))\n",
    "plt.grid()\n",
    "plt.title(\"Cross Validation Error for each alpha\")\n",
    "plt.xlabel(\"Alpha i's\")\n",
    "plt.ylabel(\"Error measure\")\n",
    "plt.show()\n",
    "\n",
    "\n",
    "best_alpha = np.argmin(log_error_array)\n",
    "clf = SGDClassifier(alpha=alpha[best_alpha], penalty='l2', loss='log', random_state=42)\n",
    "clf.fit(X_train, y_train)\n",
    "sig_clf = CalibratedClassifierCV(clf, method=\"sigmoid\")\n",
    "sig_clf.fit(X_train, y_train)\n",
    "\n",
    "predict_y = sig_clf.predict_proba(X_train)\n",
    "print('For values of best alpha = ', alpha[best_alpha], \"The train log loss is:\",log_loss(y_train, predict_y, labels=clf.classes_, eps=1e-15))\n",
    "predict_y = sig_clf.predict_proba(X_test)\n",
    "print('For values of best alpha = ', alpha[best_alpha], \"The test log loss is:\",log_loss(y_test, predict_y, labels=clf.classes_, eps=1e-15))\n",
    "predicted_y =np.argmax(predict_y,axis=1)\n",
    "print(\"Total number of data points :\", len(predicted_y))\n",
    "plot_confusion_matrix(y_test, predicted_y)"
   ]
  },
  {
   "cell_type": "markdown",
   "metadata": {
    "colab_type": "text",
    "id": "gjUGUb2YrhkH"
   },
   "source": [
    "## 4.2 Linear SVM with hyperparameter tuning"
   ]
  },
  {
   "cell_type": "code",
   "execution_count": 31,
   "metadata": {
    "colab": {
     "base_uri": "https://localhost:8080/",
     "height": 743
    },
    "colab_type": "code",
    "id": "wCHt9LaCrg5j",
    "outputId": "676163dd-7d35-4461-ad56-e6b59fff0bfa"
   },
   "outputs": [
    {
     "name": "stdout",
     "output_type": "stream",
     "text": [
      "For values of alpha =  1e-05 The log loss is: 0.4564755096759054\n",
      "For values of alpha =  0.0001 The log loss is: 0.4816810055256412\n",
      "For values of alpha =  0.001 The log loss is: 0.48871223690306725\n",
      "For values of alpha =  0.01 The log loss is: 0.49865661077196854\n",
      "For values of alpha =  0.1 The log loss is: 0.4892970712272376\n",
      "For values of alpha =  1 The log loss is: 0.5805943036947876\n",
      "For values of alpha =  10 The log loss is: 0.6336572993591096\n"
     ]
    },
    {
     "data": {
      "image/png": "[encoded data removed]",
      "text/plain": [
       "<Figure size 432x288 with 1 Axes>"
      ]
     },
     "metadata": {
      "needs_background": "light"
     },
     "output_type": "display_data"
    },
    {
     "name": "stdout",
     "output_type": "stream",
     "text": [
      "For values of best alpha =  1e-05 The train log loss is: 0.4648256994859472\n",
      "For values of best alpha =  1e-05 The test log loss is: 0.4564755096759054\n",
      "Total number of data points : 20000\n"
     ]
    },
    {
     "data": {
      "image/png": "[encoded data removed]",
      "text/plain": [
       "<Figure size 1440x288 with 6 Axes>"
      ]
     },
     "metadata": {
      "needs_background": "light"
     },
     "output_type": "display_data"
    }
   ],
   "source": [
    "alpha = [10 ** x for x in range(-5, 2)] # hyperparam for SGD classifier.\n",
    "\n",
    "log_error_array=[]\n",
    "for i in alpha:\n",
    "    clf = SGDClassifier(alpha=i, penalty='l1', loss='hinge', random_state=42)\n",
    "    clf.fit(X_train, y_train)\n",
    "    sig_clf = CalibratedClassifierCV(clf, method=\"sigmoid\")\n",
    "    sig_clf.fit(X_train, y_train)\n",
    "    predict_y = sig_clf.predict_proba(X_test)\n",
    "    log_error_array.append(log_loss(y_test, predict_y, labels=clf.classes_, eps=1e-15))\n",
    "    print('For values of alpha = ', i, \"The log loss is:\",log_loss(y_test, predict_y, labels=clf.classes_, eps=1e-15))\n",
    "\n",
    "fig, ax = plt.subplots()\n",
    "ax.plot(alpha, log_error_array,c='g')\n",
    "for i, txt in enumerate(np.round(log_error_array,3)):\n",
    "    ax.annotate((alpha[i],np.round(txt,3)), (alpha[i],log_error_array[i]))\n",
    "plt.grid()\n",
    "plt.title(\"Cross Validation Error for each alpha\")\n",
    "plt.xlabel(\"Alpha i's\")\n",
    "plt.ylabel(\"Error measure\")\n",
    "plt.show()\n",
    "\n",
    "\n",
    "best_alpha = np.argmin(log_error_array)\n",
    "clf = SGDClassifier(alpha=alpha[best_alpha], penalty='l1', loss='hinge', random_state=42)\n",
    "clf.fit(X_train, y_train)\n",
    "sig_clf = CalibratedClassifierCV(clf, method=\"sigmoid\")\n",
    "sig_clf.fit(X_train, y_train)\n",
    "\n",
    "predict_y = sig_clf.predict_proba(X_train)\n",
    "print('For values of best alpha = ', alpha[best_alpha], \"The train log loss is:\",log_loss(y_train, predict_y, labels=clf.classes_, eps=1e-15))\n",
    "predict_y = sig_clf.predict_proba(X_test)\n",
    "print('For values of best alpha = ', alpha[best_alpha], \"The test log loss is:\",log_loss(y_test, predict_y, labels=clf.classes_, eps=1e-15))\n",
    "predicted_y =np.argmax(predict_y,axis=1)\n",
    "print(\"Total number of data points :\", len(predicted_y))\n",
    "plot_confusion_matrix(y_test, predicted_y)"
   ]
  },
  {
   "cell_type": "markdown",
   "metadata": {
    "colab_type": "text",
    "id": "XJI8JtZbZZhN"
   },
   "source": [
    "## 4.3 Hyperparam Tuning using XGBOOST"
   ]
  },
  {
   "cell_type": "code",
   "execution_count": 24,
   "metadata": {
    "colab": {
     "base_uri": "https://localhost:8080/",
     "height": 85
    },
    "colab_type": "code",
    "id": "S6-SF_wu5uUA",
    "outputId": "a1666a42-fce4-4094-f618-806ee8d0cbbd"
   },
   "outputs": [
    {
     "name": "stdout",
     "output_type": "stream",
     "text": [
      "Fitting 5 folds for each of 10 candidates, totalling 50 fits\n"
     ]
    },
    {
     "name": "stderr",
     "output_type": "stream",
     "text": [
      "[Parallel(n_jobs=-1)]: Using backend LokyBackend with 4 concurrent workers.\n",
      "[Parallel(n_jobs=-1)]: Done  10 tasks      | elapsed: 10.2min\n",
      "[Parallel(n_jobs=-1)]: Done  33 tasks      | elapsed: 16.1min\n",
      "[Parallel(n_jobs=-1)]: Done  50 out of  50 | elapsed: 22.2min remaining:    0.0s\n",
      "[Parallel(n_jobs=-1)]: Done  50 out of  50 | elapsed: 22.2min finished\n"
     ]
    }
   ],
   "source": [
    "hyp_train_= finding_best_hyperparam(X_train,y_train)"
   ]
  },
  {
   "cell_type": "code",
   "execution_count": 25,
   "metadata": {
    "colab": {},
    "colab_type": "code",
    "id": "hqsMO994IaxU"
   },
   "outputs": [
    {
     "name": "stdout",
     "output_type": "stream",
     "text": [
      "Best: -0.330698 using {'subsample': 0.5, 'n_estimators': 1200, 'max_depth': 3, 'colsample_bytree': 0.5}\n",
      "====================================================================================================\n",
      "-0.330698 with: {'subsample': 0.5, 'n_estimators': 1200, 'max_depth': 3, 'colsample_bytree': 0.5}\n",
      "-0.339120 with: {'subsample': 0.7, 'n_estimators': 1000, 'max_depth': 2, 'colsample_bytree': 0.7}\n",
      "-0.367988 with: {'subsample': 0.7, 'n_estimators': 100, 'max_depth': 3, 'colsample_bytree': 0.3}\n",
      "-0.360434 with: {'subsample': 0.1, 'n_estimators': 1200, 'max_depth': 7, 'colsample_bytree': 0.1}\n",
      "-0.358152 with: {'subsample': 0.1, 'n_estimators': 100, 'max_depth': 5, 'colsample_bytree': 0.3}\n",
      "-0.386373 with: {'subsample': 0.7, 'n_estimators': 100, 'max_depth': 3, 'colsample_bytree': 0.1}\n",
      "-0.353068 with: {'subsample': 0.1, 'n_estimators': 1000, 'max_depth': 2, 'colsample_bytree': 0.1}\n",
      "-0.346672 with: {'subsample': 0.1, 'n_estimators': 500, 'max_depth': 3, 'colsample_bytree': 0.5}\n",
      "-0.350379 with: {'subsample': 0.1, 'n_estimators': 1300, 'max_depth': 2, 'colsample_bytree': 0.1}\n",
      "-0.335191 with: {'subsample': 0.3, 'n_estimators': 1000, 'max_depth': 3, 'colsample_bytree': 0.3}\n"
     ]
    }
   ],
   "source": [
    "print(\"Best: %f using %s\" % (hyp_train_.best_score_, hyp_train_.best_params_))\n",
    "print('=='*50)\n",
    "means = hyp_train_.cv_results_['mean_test_score']\n",
    "params = hyp_train_.cv_results_['params']\n",
    "\n",
    "for mean, param in zip(means, params):\n",
    "    print(\"%f with: %r\" % (mean, param))"
   ]
  },
  {
   "cell_type": "code",
   "execution_count": 26,
   "metadata": {
    "colab": {},
    "colab_type": "code",
    "id": "eTJMknLIar2f"
   },
   "outputs": [
    {
     "data": {
      "text/plain": [
       "XGBClassifier(base_score=0.5, booster='gbtree', class_weight='balanced',\n",
       "       colsample_bylevel=1, colsample_bytree=0.5, gamma=0,\n",
       "       learning_rate=0.1, max_delta_step=0, max_depth=9,\n",
       "       min_child_weight=1, missing=None, n_estimators=1300, n_jobs=1,\n",
       "       nthread=None, objective='binary:logistic', random_state=1,\n",
       "       reg_alpha=0, reg_lambda=1, scale_pos_weight=1, seed=None,\n",
       "       silent=True, subsample=0.5)"
      ]
     },
     "execution_count": 26,
     "metadata": {},
     "output_type": "execute_result"
    }
   ],
   "source": [
    "xgb_model = XGBClassifier(class_weight='balanced', n_estimators=1300,max_depth=9,colsample_bytree = 0.5,\n",
    "                      subsample = 0.5,random_state=1)\n",
    "\n",
    "xgb_model.fit(X_train,y_train)"
   ]
  },
  {
   "cell_type": "code",
   "execution_count": 27,
   "metadata": {
    "colab": {},
    "colab_type": "code",
    "id": "qurUitylgjoS"
   },
   "outputs": [
    {
     "name": "stdout",
     "output_type": "stream",
     "text": [
      "For values of best alpha =  1e-05 The train log loss is: 0.11545512084550494\n",
      "For values of best alpha =  1e-05 The test log loss is: 0.3217635831075882\n",
      "Total number of data points : 20000\n"
     ]
    },
    {
     "data": {
      "image/png": "[encoded data removed]",
      "text/plain": [
       "<Figure size 1440x288 with 6 Axes>"
      ]
     },
     "metadata": {
      "needs_background": "light"
     },
     "output_type": "display_data"
    }
   ],
   "source": [
    "predict_y = xgb_model.predict_proba(X_train)\n",
    "print('For values of best alpha = ', alpha[best_alpha], \"The train log loss is:\",log_loss(y_train, predict_y, labels=clf.classes_, eps=1e-15))\n",
    "predict_y = xgb_model.predict_proba(X_test)\n",
    "print('For values of best alpha = ', alpha[best_alpha], \"The test log loss is:\",log_loss(y_test, predict_y, labels=clf.classes_, eps=1e-15))\n",
    "predicted_y =np.argmax(predict_y,axis=1)\n",
    "print(\"Total number of data points :\", len(predicted_y))\n",
    "plot_confusion_matrix(y_test, predicted_y)"
   ]
  },
  {
   "cell_type": "markdown",
   "metadata": {
    "colab_type": "text",
    "id": "hyIbKCZnPmIi"
   },
   "source": [
    "Above we can see that though test loss it '0.32176' which is excellent on other it is also notice that train loss is '0.11545'\n",
    "\n",
    "There is large difference between train loss and test lost so our model might be **OVERFIT**.\n",
    "\n",
    "So we will adjust hyperparam tune values.\n",
    "\n",
    "Try below values\n",
    "\n",
    "max_depth = 5\n",
    "n_estimators = 1000"
   ]
  },
  {
   "cell_type": "code",
   "execution_count": 28,
   "metadata": {
    "colab": {},
    "colab_type": "code",
    "id": "ToGqkf_Wtohf"
   },
   "outputs": [
    {
     "name": "stdout",
     "output_type": "stream",
     "text": [
      "For values of best alpha =  1e-05 The train log loss is: 0.23319731846422492\n",
      "For values of best alpha =  1e-05 The test log loss is: 0.3188408678021985\n",
      "Total number of data points : 20000\n"
     ]
    },
    {
     "data": {
      "image/png": "[encoded data removed]",
      "text/plain": [
       "<Figure size 1440x288 with 6 Axes>"
      ]
     },
     "metadata": {
      "needs_background": "light"
     },
     "output_type": "display_data"
    }
   ],
   "source": [
    "xgb_model = XGBClassifier(class_weight='balanced', n_estimators=1000,max_depth=5,colsample_bytree = 0.5,\n",
    "                      subsample = 0.5,random_state=1)\n",
    "\n",
    "xgb_model.fit(X_train,y_train)\n",
    "\n",
    "predict_y = xgb_model.predict_proba(X_train)\n",
    "print('For values of best alpha = ', alpha[best_alpha], \"The train log loss is:\",log_loss(y_train, predict_y, labels=clf.classes_, eps=1e-15))\n",
    "predict_y = xgb_model.predict_proba(X_test)\n",
    "print('For values of best alpha = ', alpha[best_alpha], \"The test log loss is:\",log_loss(y_test, predict_y, labels=clf.classes_, eps=1e-15))\n",
    "predicted_y =np.argmax(predict_y,axis=1)\n",
    "print(\"Total number of data points :\", len(predicted_y))\n",
    "plot_confusion_matrix(y_test, predicted_y)"
   ]
  },
  {
   "cell_type": "markdown",
   "metadata": {
    "colab_type": "text",
    "id": "0a_D1CnMMc0v"
   },
   "source": [
    "# 5. Conclusion"
   ]
  },
  {
   "cell_type": "code",
   "execution_count": 32,
   "metadata": {
    "colab": {},
    "colab_type": "code",
    "id": "jFT-e0I2MmBA",
    "scrolled": true
   },
   "outputs": [
    {
     "name": "stdout",
     "output_type": "stream",
     "text": [
      "\t\t\t\t Model Comparision  \n",
      "\n",
      "\n",
      "We have considered 100k points\n",
      "\n",
      "\n",
      "+-----------------+--------------+---------------------+------------+---------+\n",
      "|      Metric     | Random Model | Logistic Regression | Linear SVM |   GBDT  |\n",
      "+-----------------+--------------+---------------------+------------+---------+\n",
      "| Train Log Loss  |   0.88491    |       0.44927       |  0.46482   | 0.23319 |\n",
      "|  Test Log Loss  |   0.88491    |       0.44198       |  0.45647   | 0.31884 |\n",
      "+-----------------+--------------+---------------------+------------+---------+\n"
     ]
    }
   ],
   "source": [
    "import pandas as pd\n",
    "from prettytable import PrettyTable\n",
    "\n",
    "print('\\t\\t\\t\\t Model Comparision  ')\n",
    "print('\\n')\n",
    "\n",
    "print('We have considered 100k points')\n",
    "\n",
    "\n",
    "x = PrettyTable()\n",
    "x.field_names =  ['Metric','Random Model','Logistic Regression','Linear SVM', 'GBDT']\n",
    "\n",
    "x.add_row([\"Train Log Loss \",0.88491, 0.44927,0.46482,0.23319])\n",
    "x.add_row([\"Test Log Loss \",0.88491, 0.44198,0.45647,0.31884])\n",
    "\n",
    "\n",
    "print('\\n')\n",
    "print(x)"
   ]
  },
  {
   "cell_type": "markdown",
   "metadata": {},
   "source": [
    "## Summary"
   ]
  },
  {
   "cell_type": "markdown",
   "metadata": {
    "colab_type": "text",
    "id": "k6c8i5gLQ4WC"
   },
   "source": [
    "We have built Logistic Regression, Linear SVM and GBDT based models. It is clear cut GBDT perfoming best in all of them.\n",
    "\n",
    "Also it is notice that Train log loss and Test Log loss value are closer for all models so we can say that all mode performing well, no overfitting nothing\n",
    "\n",
    "While performig GBDT we seems model was slightly tends to overfitt, but we adjust some value now its look better.\n",
    "\n",
    "Logistic Regression and LinearSVM models work better in Higher Dimensions\n",
    "\n",
    "It is rule of thumb that GBDT works better in small dimension, yet here in HIGHER dimension also it is working well."
   ]
  }
 ],
 "metadata": {
  "accelerator": "GPU",
  "colab": {
   "collapsed_sections": [],
   "machine_shape": "hm",
   "name": "Quora_Question_Similarity.ipynb",
   "provenance": [],
   "version": "0.3.2"
  },
  "kernelspec": {
   "display_name": "Python 3",
   "language": "python",
   "name": "python3"
  },
  "language_info": {
   "codemirror_mode": {
    "name": "ipython",
    "version": 3
   },
   "file_extension": ".py",
   "mimetype": "text/x-python",
   "name": "python",
   "nbconvert_exporter": "python",
   "pygments_lexer": "ipython3",
   "version": "3.7.4"
  }
 },
 "nbformat": 4,
 "nbformat_minor": 1
}
